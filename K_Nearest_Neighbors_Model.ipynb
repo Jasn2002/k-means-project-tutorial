{
 "cells": [
  {
   "cell_type": "markdown",
   "metadata": {},
   "source": [
    "## K Nearest Neighbors Model"
   ]
  },
  {
   "cell_type": "code",
   "execution_count": 1,
   "metadata": {},
   "outputs": [],
   "source": [
    "import numpy as np\n",
    "import pandas as pd\n",
    "from sklearn.model_selection import train_test_split\n",
    "from sklearn.preprocessing import StandardScaler\n",
    "from sklearn.neighbors import KNeighborsClassifier\n",
    "from sklearn.metrics import accuracy_score, classification_report, confusion_matrix"
   ]
  },
  {
   "cell_type": "code",
   "execution_count": 2,
   "metadata": {},
   "outputs": [
    {
     "data": {
      "text/html": [
       "<div>\n",
       "<style scoped>\n",
       "    .dataframe tbody tr th:only-of-type {\n",
       "        vertical-align: middle;\n",
       "    }\n",
       "\n",
       "    .dataframe tbody tr th {\n",
       "        vertical-align: top;\n",
       "    }\n",
       "\n",
       "    .dataframe thead th {\n",
       "        text-align: right;\n",
       "    }\n",
       "</style>\n",
       "<table border=\"1\" class=\"dataframe\">\n",
       "  <thead>\n",
       "    <tr style=\"text-align: right;\">\n",
       "      <th></th>\n",
       "      <th>MedInc</th>\n",
       "      <th>Latitude</th>\n",
       "      <th>Longitude</th>\n",
       "    </tr>\n",
       "  </thead>\n",
       "  <tbody>\n",
       "    <tr>\n",
       "      <th>0</th>\n",
       "      <td>3.2596</td>\n",
       "      <td>32.71</td>\n",
       "      <td>-117.03</td>\n",
       "    </tr>\n",
       "    <tr>\n",
       "      <th>1</th>\n",
       "      <td>3.8125</td>\n",
       "      <td>33.77</td>\n",
       "      <td>-118.16</td>\n",
       "    </tr>\n",
       "    <tr>\n",
       "      <th>2</th>\n",
       "      <td>4.1563</td>\n",
       "      <td>34.66</td>\n",
       "      <td>-120.48</td>\n",
       "    </tr>\n",
       "    <tr>\n",
       "      <th>3</th>\n",
       "      <td>1.9425</td>\n",
       "      <td>32.69</td>\n",
       "      <td>-117.11</td>\n",
       "    </tr>\n",
       "    <tr>\n",
       "      <th>4</th>\n",
       "      <td>3.5542</td>\n",
       "      <td>36.78</td>\n",
       "      <td>-119.80</td>\n",
       "    </tr>\n",
       "    <tr>\n",
       "      <th>5</th>\n",
       "      <td>6.6227</td>\n",
       "      <td>37.42</td>\n",
       "      <td>-121.86</td>\n",
       "    </tr>\n",
       "    <tr>\n",
       "      <th>6</th>\n",
       "      <td>2.5192</td>\n",
       "      <td>34.04</td>\n",
       "      <td>-117.97</td>\n",
       "    </tr>\n",
       "    <tr>\n",
       "      <th>7</th>\n",
       "      <td>7.9892</td>\n",
       "      <td>37.91</td>\n",
       "      <td>-122.53</td>\n",
       "    </tr>\n",
       "    <tr>\n",
       "      <th>8</th>\n",
       "      <td>1.5000</td>\n",
       "      <td>34.13</td>\n",
       "      <td>-117.90</td>\n",
       "    </tr>\n",
       "    <tr>\n",
       "      <th>9</th>\n",
       "      <td>6.4266</td>\n",
       "      <td>34.02</td>\n",
       "      <td>-117.79</td>\n",
       "    </tr>\n",
       "  </tbody>\n",
       "</table>\n",
       "</div>"
      ],
      "text/plain": [
       "   MedInc  Latitude  Longitude\n",
       "0  3.2596     32.71    -117.03\n",
       "1  3.8125     33.77    -118.16\n",
       "2  4.1563     34.66    -120.48\n",
       "3  1.9425     32.69    -117.11\n",
       "4  3.5542     36.78    -119.80\n",
       "5  6.6227     37.42    -121.86\n",
       "6  2.5192     34.04    -117.97\n",
       "7  7.9892     37.91    -122.53\n",
       "8  1.5000     34.13    -117.90\n",
       "9  6.4266     34.02    -117.79"
      ]
     },
     "execution_count": 2,
     "metadata": {},
     "output_type": "execute_result"
    }
   ],
   "source": [
    "train_data = pd.read_csv(\"data/clean/clean_train.csv\")\n",
    "test_data = pd.read_csv(\"data/clean/clean_test.csv\")\n",
    "\n",
    "X_train = train_data.drop([\"cluster\"], axis = 1)\n",
    "y_train = train_data[\"cluster\"]\n",
    "X_test = test_data.drop([\"cluster\"], axis = 1)\n",
    "y_test = test_data[\"cluster\"]\n",
    "\n",
    "X_train.head(10)\n",
    "\n"
   ]
  },
  {
   "cell_type": "code",
   "execution_count": 3,
   "metadata": {},
   "outputs": [],
   "source": [
    "#Scaling\n",
    "scaler = StandardScaler()\n",
    "X_train_scaled = scaler.fit_transform(X_train)\n",
    "X_test_scaled = scaler.transform(X_test)"
   ]
  },
  {
   "cell_type": "code",
   "execution_count": 4,
   "metadata": {},
   "outputs": [
    {
     "name": "stdout",
     "output_type": "stream",
     "text": [
      "Accuracy: 0.9922480620155039\n",
      "Confusion Matrix:\n",
      "[[ 555    1    0    0    0    5]\n",
      " [   0  977    0    6    0    0]\n",
      " [   0    6  293    0    0    0]\n",
      " [   0    3    0 1105    0    3]\n",
      " [   0    0    0    0   62    0]\n",
      " [   2    1    0    5    0 1104]]\n",
      "Classification Report:\n",
      "              precision    recall  f1-score   support\n",
      "\n",
      "           0       1.00      0.99      0.99       561\n",
      "           1       0.99      0.99      0.99       983\n",
      "           2       1.00      0.98      0.99       299\n",
      "           3       0.99      0.99      0.99      1111\n",
      "           4       1.00      1.00      1.00        62\n",
      "           5       0.99      0.99      0.99      1112\n",
      "\n",
      "    accuracy                           0.99      4128\n",
      "   macro avg       0.99      0.99      0.99      4128\n",
      "weighted avg       0.99      0.99      0.99      4128\n",
      "\n"
     ]
    }
   ],
   "source": [
    "# Initialize KNN with k=5\n",
    "model = KNeighborsClassifier(n_neighbors=5)\n",
    "\n",
    "# Fit the model on the training data\n",
    "model.fit(X_train_scaled, y_train)\n",
    "\n",
    "# Predict the labels for the test set\n",
    "y_pred = model.predict(X_test_scaled)\n",
    "\n",
    "# Evaluate accuracy\n",
    "accuracy = accuracy_score(y_test, y_pred)\n",
    "print(f\"Accuracy: {accuracy}\")\n",
    "\n",
    "# Confusion matrix\n",
    "print(\"Confusion Matrix:\")\n",
    "print(confusion_matrix(y_test, y_pred))\n",
    "\n",
    "# Classification report\n",
    "print(\"Classification Report:\")\n",
    "print(classification_report(y_test, y_pred))\n"
   ]
  },
  {
   "cell_type": "code",
   "execution_count": 5,
   "metadata": {},
   "outputs": [],
   "source": [
    "#Saving the model\n",
    "from pickle import dump\n",
    "\n",
    "dump(model, open(\"models/supervised/knn_n_neighbors-5.sav\", \"wb\"))"
   ]
  }
 ],
 "metadata": {
  "kernelspec": {
   "display_name": "knn_env",
   "language": "python",
   "name": "python3"
  },
  "language_info": {
   "codemirror_mode": {
    "name": "ipython",
    "version": 3
   },
   "file_extension": ".py",
   "mimetype": "text/x-python",
   "name": "python",
   "nbconvert_exporter": "python",
   "pygments_lexer": "ipython3",
   "version": "3.12.1"
  }
 },
 "nbformat": 4,
 "nbformat_minor": 2
}
